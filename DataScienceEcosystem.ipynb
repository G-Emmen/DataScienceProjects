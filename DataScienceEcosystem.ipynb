{
 "cells": [
  {
   "cell_type": "markdown",
   "id": "45e5084a",
   "metadata": {},
   "source": [
    "# Data Science Tools and Ecosystem"
   ]
  },
  {
   "attachments": {},
   "cell_type": "markdown",
   "id": "b2757e28",
   "metadata": {},
   "source": [
    "In this notebook, Data Science Tools and Ecosystem are summarized."
   ]
  },
  {
   "cell_type": "markdown",
   "id": "54a620b3",
   "metadata": {},
   "source": [
    "Some of the popular languages that Data Scientists user are:\n",
    "    \n",
    "    1. Python\n",
    "    2. R Language\n",
    "    3. SQL\n",
    "    4. Java\n",
    "    5. Scala\n",
    "    6. C++\n",
    "    7. JavaScript\n",
    "    8. Julia"
   ]
  },
  {
   "cell_type": "markdown",
   "id": "5bef51bb",
   "metadata": {},
   "source": [
    "Some of the commonly used libraries by Data Scientists include:\n",
    "    \n",
    "    1. Pandas\n",
    "    2. NumPy\n",
    "    3. Matplotlib\n",
    "    4. Seaborn\n",
    "    5. Scikit-learn\n",
    "    6. Keras\n",
    "    7. TensorFlow\n",
    "    8. PyTorch"
   ]
  },
  {
   "cell_type": "markdown",
   "id": "6beb09de",
   "metadata": {},
   "source": [
    "| Data Science Tools |\n",
    "|:-------------------|\n",
    "| Jupyter Notebooks |\n",
    "| RStudio |\n",
    "| GitHub |\n",
    "| GitLab |"
   ]
  },
  {
   "cell_type": "markdown",
   "id": "e57eb181",
   "metadata": {},
   "source": [
    "### Below are a few examples of evaluating arithmetic expressions in Python"
   ]
  },
  {
   "cell_type": "code",
   "execution_count": 1,
   "id": "c7547faa",
   "metadata": {},
   "outputs": [
    {
     "data": {
      "text/plain": [
       "17"
      ]
     },
     "execution_count": 1,
     "metadata": {},
     "output_type": "execute_result"
    }
   ],
   "source": [
    "# This is a simple arithmetic expression to multiply then add integers\n",
    "\n",
    "(3*4)+5"
   ]
  },
  {
   "cell_type": "code",
   "execution_count": 2,
   "id": "93dd7c32",
   "metadata": {},
   "outputs": [
    {
     "data": {
      "text/plain": [
       "3.3333333333333335"
      ]
     },
     "execution_count": 2,
     "metadata": {},
     "output_type": "execute_result"
    }
   ],
   "source": [
    "# This will convert 200 minutes to hours by dividing by 60\n",
    "\n",
    "200/60"
   ]
  },
  {
   "cell_type": "markdown",
   "id": "061828b2",
   "metadata": {},
   "source": [
    "**Objectives:**\n",
    "\n",
    "    - List popular languages for Data Science\n",
    "    - List popular libraries for Data Science\n",
    "    - List data science tools\n",
    "    - Demonstrate using python to evaluate arithmetic expressions"
   ]
  },
  {
   "cell_type": "markdown",
   "id": "b2b39330",
   "metadata": {},
   "source": [
    "## Author\n",
    "Greg Emmen"
   ]
  },
  {
   "cell_type": "code",
   "execution_count": null,
   "id": "eddfa7b6",
   "metadata": {},
   "outputs": [],
   "source": []
  }
 ],
 "metadata": {
  "kernelspec": {
   "display_name": "Python 3 (ipykernel)",
   "language": "python",
   "name": "python3"
  },
  "language_info": {
   "codemirror_mode": {
    "name": "ipython",
    "version": 3
   },
   "file_extension": ".py",
   "mimetype": "text/x-python",
   "name": "python",
   "nbconvert_exporter": "python",
   "pygments_lexer": "ipython3",
   "version": "3.11.1"
  }
 },
 "nbformat": 4,
 "nbformat_minor": 5
}

{
 "cells": [
  {
   "cell_type": "markdown",
   "id": "c4825ea7",
   "metadata": {
    "papermill": {
     "duration": 0.009556,
     "end_time": "2024-03-01T18:12:16.650747",
     "exception": false,
     "start_time": "2024-03-01T18:12:16.641191",
     "status": "completed"
    },
    "tags": []
   },
   "source": [
    "# GE Notebook - LLM Prompt Recovery\n",
    "\n",
    "Let's start by defining the scope of the work:\n",
    "\n",
    "- Understand the Problem\n",
    "- Understand the data\n",
    "- Prepare the data\n",
    "- Feature Engineering\n",
    "- Modelling\n",
    "- Evaluation\n",
    "- Submission"
   ]
  },
  {
   "cell_type": "code",
   "execution_count": 1,
   "id": "df8a7107",
   "metadata": {
    "execution": {
     "iopub.execute_input": "2024-03-01T18:12:16.666172Z",
     "iopub.status.busy": "2024-03-01T18:12:16.665257Z",
     "iopub.status.idle": "2024-03-01T18:12:17.419980Z",
     "shell.execute_reply": "2024-03-01T18:12:17.419101Z"
    },
    "papermill": {
     "duration": 0.764698,
     "end_time": "2024-03-01T18:12:17.422465",
     "exception": false,
     "start_time": "2024-03-01T18:12:16.657767",
     "status": "completed"
    },
    "tags": []
   },
   "outputs": [],
   "source": [
    "import pandas as pd\n",
    "import random\n",
    "import datetime"
   ]
  },
  {
   "cell_type": "code",
   "execution_count": 2,
   "id": "e61ec413",
   "metadata": {
    "execution": {
     "iopub.execute_input": "2024-03-01T18:12:17.437010Z",
     "iopub.status.busy": "2024-03-01T18:12:17.436130Z",
     "iopub.status.idle": "2024-03-01T18:13:38.881695Z",
     "shell.execute_reply": "2024-03-01T18:13:38.880803Z"
    },
    "papermill": {
     "duration": 81.455276,
     "end_time": "2024-03-01T18:13:38.884194",
     "exception": false,
     "start_time": "2024-03-01T18:12:17.428918",
     "status": "completed"
    },
    "tags": []
   },
   "outputs": [],
   "source": [
    "%%capture\n",
    "# Setup the environment\n",
    "!pip install -q -U immutabledict sentencepiece \n",
    "!git clone https://github.com/google/gemma_pytorch.git\n",
    "!mkdir /kaggle/working/gemma/\n",
    "!mv /kaggle/working/gemma_pytorch/gemma/* /kaggle/working/gemma/\n",
    "\n",
    "import sys \n",
    "sys.path.append(\"/kaggle/working/gemma_pytorch/\") \n",
    "from gemma.config import GemmaConfig, get_config_for_7b, get_config_for_2b\n",
    "from gemma.model import GemmaForCausalLM\n",
    "from gemma.tokenizer import Tokenizer\n",
    "import contextlib\n",
    "import os\n",
    "import torch\n",
    "\n",
    "# Load the model\n",
    "VARIANT = \"7b-it-quant\" \n",
    "MACHINE_TYPE = \"cuda\" \n",
    "weights_dir = '/kaggle/input/gemma/pytorch/7b-it-quant/2' \n",
    "\n",
    "@contextlib.contextmanager\n",
    "def _set_default_tensor_type(dtype: torch.dtype):\n",
    "  \"\"\"Sets the default torch dtype to the given dtype.\"\"\"\n",
    "  torch.set_default_dtype(dtype)\n",
    "  yield\n",
    "  torch.set_default_dtype(torch.float)\n",
    "\n",
    "# Model Config.\n",
    "model_config = get_config_for_2b() if \"2b\" in VARIANT else get_config_for_7b()\n",
    "model_config.tokenizer = os.path.join(weights_dir, \"tokenizer.model\")\n",
    "model_config.quant = \"quant\" in VARIANT\n",
    "\n",
    "# Model.\n",
    "device = torch.device(MACHINE_TYPE)\n",
    "with _set_default_tensor_type(model_config.get_dtype()):\n",
    "  model = GemmaForCausalLM(model_config)\n",
    "  ckpt_path = os.path.join(weights_dir, f'gemma-{VARIANT}.ckpt')\n",
    "  model.load_weights(ckpt_path)\n",
    "  model = model.to(device).eval()"
   ]
  },
  {
   "cell_type": "markdown",
   "id": "72ef4dba",
   "metadata": {
    "papermill": {
     "duration": 0.005939,
     "end_time": "2024-03-01T18:13:38.896721",
     "exception": false,
     "start_time": "2024-03-01T18:13:38.890782",
     "status": "completed"
    },
    "tags": []
   },
   "source": [
    "## Understand the Problem\n",
    "\n",
    "> LLMs are commonly used to rewrite or make stylistic changes to text. The goal of this competition is to recover the LLM prompt that was used to transform a given text.\n",
    "> \n",
    "> NLP workflows increasingly involve rewriting text, but there's still a lot to learn about how to prompt LLMs effectively. This machine learning competition is designed to be a novel way to dig deeper into this problem.\n",
    "> \n",
    "> The challenge: recover the LLM prompt used to rewrite a given text. You’ll be tested against a dataset of 1300+ original texts, each paired with a rewritten version from Gemma, Google’s new family of open models.\n",
    "\n",
    "This problem includes a free-form start where contestants have to define and build their own training data. The example submissions give a hint as to what we should be looking for"
   ]
  },
  {
   "cell_type": "markdown",
   "id": "ea5bbe9a",
   "metadata": {
    "papermill": {
     "duration": 0.005868,
     "end_time": "2024-03-01T18:13:38.908565",
     "exception": false,
     "start_time": "2024-03-01T18:13:38.902697",
     "status": "completed"
    },
    "tags": []
   },
   "source": [
    "## Understand the Data\n",
    "\n",
    "This competition has examples of testing/training data, but doesn't include any form of large dataset to train with. We have to make our own."
   ]
  },
  {
   "cell_type": "code",
   "execution_count": 3,
   "id": "e038ad3b",
   "metadata": {
    "execution": {
     "iopub.execute_input": "2024-03-01T18:13:38.922501Z",
     "iopub.status.busy": "2024-03-01T18:13:38.921665Z",
     "iopub.status.idle": "2024-03-01T18:13:38.942703Z",
     "shell.execute_reply": "2024-03-01T18:13:38.941788Z"
    },
    "papermill": {
     "duration": 0.03028,
     "end_time": "2024-03-01T18:13:38.944713",
     "exception": false,
     "start_time": "2024-03-01T18:13:38.914433",
     "status": "completed"
    },
    "tags": []
   },
   "outputs": [],
   "source": [
    "# read the input CSV containing 100 ChatGPT generated \"rewrite this as...\" prompts\n",
    "df_rewrite_prompts = pd.read_csv('/kaggle/input/rewrite-prompts/rewrite_prompts.csv')\n",
    "\n",
    "# convert the 'Rewrite Prompt' column to a list\n",
    "prompt_list = df_rewrite_prompts['Rewrite Prompt'].to_list()\n",
    "\n",
    "# select a number of random prompts to pull from the list\n",
    "number_of_prompts = 10\n",
    "prompt_selector = random.sample(range(0,len(prompt_list)),number_of_prompts)\n",
    "\n",
    "# create a blank list for the prompts that will be used to build onto the training dataset\n",
    "prompts = []\n",
    "\n",
    "# add the randomly selected prompts to the final list\n",
    "for i in prompt_selector:\n",
    "    prompts.append(prompt_list[i])"
   ]
  },
  {
   "cell_type": "code",
   "execution_count": 4,
   "id": "ab28bdc3",
   "metadata": {
    "execution": {
     "iopub.execute_input": "2024-03-01T18:13:38.958315Z",
     "iopub.status.busy": "2024-03-01T18:13:38.957796Z",
     "iopub.status.idle": "2024-03-01T18:14:03.003691Z",
     "shell.execute_reply": "2024-03-01T18:14:03.002684Z"
    },
    "papermill": {
     "duration": 24.055172,
     "end_time": "2024-03-01T18:14:03.006077",
     "exception": false,
     "start_time": "2024-03-01T18:13:38.950905",
     "status": "completed"
    },
    "tags": []
   },
   "outputs": [],
   "source": [
    "# read the input CSV containing both AI and human generated text\n",
    "df_movie_plot = pd.read_csv('/kaggle/input/ai-vs-human-text/AI_Human.csv')\n",
    "\n",
    "# convert the 'text' column to a list   \n",
    "phrase_list = df_movie_plot['text'].to_list()\n",
    "\n",
    "# select a number of random phrases to pull from the list\n",
    "number_of_phrases = 10\n",
    "phrase_selector = random.sample(range(0,len(phrase_list)),number_of_phrases)\n",
    "\n",
    "# create a blank list for the phrases that will be used to build onto the training dataset\n",
    "phrases = []\n",
    "\n",
    "# add the randomly selected phrases to the final list\n",
    "for i in phrase_selector:\n",
    "    phrases.append(phrase_list[i])"
   ]
  },
  {
   "cell_type": "code",
   "execution_count": 5,
   "id": "a2a63733",
   "metadata": {
    "execution": {
     "iopub.execute_input": "2024-03-01T18:14:03.020080Z",
     "iopub.status.busy": "2024-03-01T18:14:03.019728Z",
     "iopub.status.idle": "2024-03-02T00:07:57.639930Z",
     "shell.execute_reply": "2024-03-02T00:07:57.638821Z"
    },
    "papermill": {
     "duration": 21234.630488,
     "end_time": "2024-03-02T00:07:57.642987",
     "exception": false,
     "start_time": "2024-03-01T18:14:03.012499",
     "status": "completed"
    },
    "tags": []
   },
   "outputs": [],
   "source": [
    "# This is the prompt format the model expects\n",
    "USER_CHAT_TEMPLATE = \"<start_of_turn>user\\n{prompt}<end_of_turn>\\n<start_of_turn>model\\n\"\n",
    "\n",
    "number_of_tries = 5\n",
    "\n",
    "rewrite_data = []\n",
    "\n",
    "for phrase in phrases:\n",
    "    for prompt in prompts:\n",
    "        prompt = f'{prompt}\\n{phrase}'\n",
    "        for n in range(number_of_tries):\n",
    "            rewritten_text = model.generate(\n",
    "                USER_CHAT_TEMPLATE.format(prompt=prompt),\n",
    "                device=device,\n",
    "                output_len=100,\n",
    "            )\n",
    "            rewrite_data.append({\n",
    "                'phrase': phrase,\n",
    "                'prompt': prompt,\n",
    "                'rewritten_text': rewritten_text,\n",
    "            }) "
   ]
  },
  {
   "cell_type": "code",
   "execution_count": 6,
   "id": "36fbae75",
   "metadata": {
    "execution": {
     "iopub.execute_input": "2024-03-02T00:07:57.658340Z",
     "iopub.status.busy": "2024-03-02T00:07:57.658003Z",
     "iopub.status.idle": "2024-03-02T00:07:57.675744Z",
     "shell.execute_reply": "2024-03-02T00:07:57.674838Z"
    },
    "papermill": {
     "duration": 0.027741,
     "end_time": "2024-03-02T00:07:57.677900",
     "exception": false,
     "start_time": "2024-03-02T00:07:57.650159",
     "status": "completed"
    },
    "tags": []
   },
   "outputs": [
    {
     "data": {
      "text/html": [
       "<div>\n",
       "<style scoped>\n",
       "    .dataframe tbody tr th:only-of-type {\n",
       "        vertical-align: middle;\n",
       "    }\n",
       "\n",
       "    .dataframe tbody tr th {\n",
       "        vertical-align: top;\n",
       "    }\n",
       "\n",
       "    .dataframe thead th {\n",
       "        text-align: right;\n",
       "    }\n",
       "</style>\n",
       "<table border=\"1\" class=\"dataframe\">\n",
       "  <thead>\n",
       "    <tr style=\"text-align: right;\">\n",
       "      <th></th>\n",
       "      <th>phrase</th>\n",
       "      <th>prompt</th>\n",
       "      <th>rewritten_text</th>\n",
       "    </tr>\n",
       "  </thead>\n",
       "  <tbody>\n",
       "    <tr>\n",
       "      <th>0</th>\n",
       "      <td>To the editor:\\n\\nI think that we should have ...</td>\n",
       "      <td>Present this as an executive statement from th...</td>\n",
       "      <td>**Executive Statement**\\n\\n**To the Editor:**\\...</td>\n",
       "    </tr>\n",
       "    <tr>\n",
       "      <th>1</th>\n",
       "      <td>To the editor:\\n\\nI think that we should have ...</td>\n",
       "      <td>Present this as an executive statement from th...</td>\n",
       "      <td>**Executive Statement**\\n\\n**Subject: Cell Pho...</td>\n",
       "    </tr>\n",
       "    <tr>\n",
       "      <th>2</th>\n",
       "      <td>To the editor:\\n\\nI think that we should have ...</td>\n",
       "      <td>Present this as an executive statement from th...</td>\n",
       "      <td>**Executive Statement**\\n\\n**To the Editor,**\\...</td>\n",
       "    </tr>\n",
       "    <tr>\n",
       "      <th>3</th>\n",
       "      <td>To the editor:\\n\\nI think that we should have ...</td>\n",
       "      <td>Present this as an executive statement from th...</td>\n",
       "      <td>## Executive Statement: Phone Use In Schools\\n...</td>\n",
       "    </tr>\n",
       "    <tr>\n",
       "      <th>4</th>\n",
       "      <td>To the editor:\\n\\nI think that we should have ...</td>\n",
       "      <td>Present this as an executive statement from th...</td>\n",
       "      <td>**Executive Statement**\\n\\n**Subject: The Nece...</td>\n",
       "    </tr>\n",
       "  </tbody>\n",
       "</table>\n",
       "</div>"
      ],
      "text/plain": [
       "                                              phrase  \\\n",
       "0  To the editor:\\n\\nI think that we should have ...   \n",
       "1  To the editor:\\n\\nI think that we should have ...   \n",
       "2  To the editor:\\n\\nI think that we should have ...   \n",
       "3  To the editor:\\n\\nI think that we should have ...   \n",
       "4  To the editor:\\n\\nI think that we should have ...   \n",
       "\n",
       "                                              prompt  \\\n",
       "0  Present this as an executive statement from th...   \n",
       "1  Present this as an executive statement from th...   \n",
       "2  Present this as an executive statement from th...   \n",
       "3  Present this as an executive statement from th...   \n",
       "4  Present this as an executive statement from th...   \n",
       "\n",
       "                                      rewritten_text  \n",
       "0  **Executive Statement**\\n\\n**To the Editor:**\\...  \n",
       "1  **Executive Statement**\\n\\n**Subject: Cell Pho...  \n",
       "2  **Executive Statement**\\n\\n**To the Editor,**\\...  \n",
       "3  ## Executive Statement: Phone Use In Schools\\n...  \n",
       "4  **Executive Statement**\\n\\n**Subject: The Nece...  "
      ]
     },
     "execution_count": 6,
     "metadata": {},
     "output_type": "execute_result"
    }
   ],
   "source": [
    "df_train_outputs = pd.DataFrame(rewrite_data)\n",
    "df_train_outputs.head()"
   ]
  },
  {
   "cell_type": "code",
   "execution_count": 7,
   "id": "0c21830b",
   "metadata": {
    "execution": {
     "iopub.execute_input": "2024-03-02T00:07:57.692887Z",
     "iopub.status.busy": "2024-03-02T00:07:57.692583Z",
     "iopub.status.idle": "2024-03-02T00:07:57.800869Z",
     "shell.execute_reply": "2024-03-02T00:07:57.799996Z"
    },
    "papermill": {
     "duration": 0.1185,
     "end_time": "2024-03-02T00:07:57.803434",
     "exception": false,
     "start_time": "2024-03-02T00:07:57.684934",
     "status": "completed"
    },
    "tags": []
   },
   "outputs": [],
   "source": [
    "output_csv_path = f'LLM_train_output_{datetime.datetime.now().strftime(\"%H%M_%m%d%Y\")}.csv'\n",
    "df_train_outputs.to_csv(output_csv_path, index=False)"
   ]
  },
  {
   "cell_type": "markdown",
   "id": "6ddcfe01",
   "metadata": {
    "papermill": {
     "duration": 0.0066,
     "end_time": "2024-03-02T00:07:57.817047",
     "exception": false,
     "start_time": "2024-03-02T00:07:57.810447",
     "status": "completed"
    },
    "tags": []
   },
   "source": [
    "## Prepare the Data\n",
    "\n",
    "Take the generated data, and process it for use in modelling."
   ]
  },
  {
   "cell_type": "code",
   "execution_count": 8,
   "id": "b6cc63e2",
   "metadata": {
    "execution": {
     "iopub.execute_input": "2024-03-02T00:07:57.832004Z",
     "iopub.status.busy": "2024-03-02T00:07:57.831606Z",
     "iopub.status.idle": "2024-03-02T00:07:57.897604Z",
     "shell.execute_reply": "2024-03-02T00:07:57.896499Z"
    },
    "papermill": {
     "duration": 0.076286,
     "end_time": "2024-03-02T00:07:57.900142",
     "exception": false,
     "start_time": "2024-03-02T00:07:57.823856",
     "status": "completed"
    },
    "tags": []
   },
   "outputs": [],
   "source": [
    "df_train = pd.read_csv('/kaggle/input/rewrite-prompts/LLM_train_output_0418_03012024.csv')"
   ]
  },
  {
   "cell_type": "code",
   "execution_count": 9,
   "id": "23efb686",
   "metadata": {
    "execution": {
     "iopub.execute_input": "2024-03-02T00:07:57.916815Z",
     "iopub.status.busy": "2024-03-02T00:07:57.916085Z",
     "iopub.status.idle": "2024-03-02T00:07:57.927407Z",
     "shell.execute_reply": "2024-03-02T00:07:57.926450Z"
    },
    "papermill": {
     "duration": 0.021891,
     "end_time": "2024-03-02T00:07:57.929569",
     "exception": false,
     "start_time": "2024-03-02T00:07:57.907678",
     "status": "completed"
    },
    "tags": []
   },
   "outputs": [
    {
     "data": {
      "text/html": [
       "<div>\n",
       "<style scoped>\n",
       "    .dataframe tbody tr th:only-of-type {\n",
       "        vertical-align: middle;\n",
       "    }\n",
       "\n",
       "    .dataframe tbody tr th {\n",
       "        vertical-align: top;\n",
       "    }\n",
       "\n",
       "    .dataframe thead th {\n",
       "        text-align: right;\n",
       "    }\n",
       "</style>\n",
       "<table border=\"1\" class=\"dataframe\">\n",
       "  <thead>\n",
       "    <tr style=\"text-align: right;\">\n",
       "      <th></th>\n",
       "      <th>phrase</th>\n",
       "      <th>prompt</th>\n",
       "      <th>rewritten_text</th>\n",
       "    </tr>\n",
       "  </thead>\n",
       "  <tbody>\n",
       "    <tr>\n",
       "      <th>0</th>\n",
       "      <td>sometimes talking to more than one person get ...</td>\n",
       "      <td>Imbue this with a dash of F. Scott Fitzgerald\\...</td>\n",
       "      <td>Sure, here's the text infused with a dash of F...</td>\n",
       "    </tr>\n",
       "    <tr>\n",
       "      <th>1</th>\n",
       "      <td>sometimes talking to more than one person get ...</td>\n",
       "      <td>Imbue this with a dash of F. Scott Fitzgerald\\...</td>\n",
       "      <td>Sure, here's the text infused with a dash of F...</td>\n",
       "    </tr>\n",
       "    <tr>\n",
       "      <th>2</th>\n",
       "      <td>sometimes talking to more than one person get ...</td>\n",
       "      <td>Imbue this with a dash of F. Scott Fitzgerald\\...</td>\n",
       "      <td>Sure, here's the text infused with a dash of F...</td>\n",
       "    </tr>\n",
       "    <tr>\n",
       "      <th>3</th>\n",
       "      <td>sometimes talking to more than one person get ...</td>\n",
       "      <td>Imbue this with a dash of F. Scott Fitzgerald\\...</td>\n",
       "      <td>A toast to the transformative power of engagin...</td>\n",
       "    </tr>\n",
       "    <tr>\n",
       "      <th>4</th>\n",
       "      <td>sometimes talking to more than one person get ...</td>\n",
       "      <td>Imbue this with a dash of F. Scott Fitzgerald\\...</td>\n",
       "      <td>Sure, here's the text imbued with a dash of F....</td>\n",
       "    </tr>\n",
       "  </tbody>\n",
       "</table>\n",
       "</div>"
      ],
      "text/plain": [
       "                                              phrase  \\\n",
       "0  sometimes talking to more than one person get ...   \n",
       "1  sometimes talking to more than one person get ...   \n",
       "2  sometimes talking to more than one person get ...   \n",
       "3  sometimes talking to more than one person get ...   \n",
       "4  sometimes talking to more than one person get ...   \n",
       "\n",
       "                                              prompt  \\\n",
       "0  Imbue this with a dash of F. Scott Fitzgerald\\...   \n",
       "1  Imbue this with a dash of F. Scott Fitzgerald\\...   \n",
       "2  Imbue this with a dash of F. Scott Fitzgerald\\...   \n",
       "3  Imbue this with a dash of F. Scott Fitzgerald\\...   \n",
       "4  Imbue this with a dash of F. Scott Fitzgerald\\...   \n",
       "\n",
       "                                      rewritten_text  \n",
       "0  Sure, here's the text infused with a dash of F...  \n",
       "1  Sure, here's the text infused with a dash of F...  \n",
       "2  Sure, here's the text infused with a dash of F...  \n",
       "3  A toast to the transformative power of engagin...  \n",
       "4  Sure, here's the text imbued with a dash of F....  "
      ]
     },
     "execution_count": 9,
     "metadata": {},
     "output_type": "execute_result"
    }
   ],
   "source": [
    "df_train.head()"
   ]
  },
  {
   "cell_type": "code",
   "execution_count": 10,
   "id": "b8b6b99f",
   "metadata": {
    "execution": {
     "iopub.execute_input": "2024-03-02T00:07:57.947765Z",
     "iopub.status.busy": "2024-03-02T00:07:57.946934Z",
     "iopub.status.idle": "2024-03-02T00:07:57.971268Z",
     "shell.execute_reply": "2024-03-02T00:07:57.970180Z"
    },
    "papermill": {
     "duration": 0.035981,
     "end_time": "2024-03-02T00:07:57.973751",
     "exception": false,
     "start_time": "2024-03-02T00:07:57.937770",
     "status": "completed"
    },
    "tags": []
   },
   "outputs": [
    {
     "name": "stdout",
     "output_type": "stream",
     "text": [
      "<class 'pandas.core.frame.DataFrame'>\n",
      "RangeIndex: 500 entries, 0 to 499\n",
      "Data columns (total 3 columns):\n",
      " #   Column          Non-Null Count  Dtype \n",
      "---  ------          --------------  ----- \n",
      " 0   phrase          500 non-null    object\n",
      " 1   prompt          500 non-null    object\n",
      " 2   rewritten_text  500 non-null    object\n",
      "dtypes: object(3)\n",
      "memory usage: 11.8+ KB\n"
     ]
    }
   ],
   "source": [
    "df_train.info()"
   ]
  },
  {
   "cell_type": "code",
   "execution_count": 11,
   "id": "05b5de8b",
   "metadata": {
    "execution": {
     "iopub.execute_input": "2024-03-02T00:07:57.989864Z",
     "iopub.status.busy": "2024-03-02T00:07:57.989551Z",
     "iopub.status.idle": "2024-03-02T00:07:57.997825Z",
     "shell.execute_reply": "2024-03-02T00:07:57.996762Z"
    },
    "papermill": {
     "duration": 0.018567,
     "end_time": "2024-03-02T00:07:57.999900",
     "exception": false,
     "start_time": "2024-03-02T00:07:57.981333",
     "status": "completed"
    },
    "tags": []
   },
   "outputs": [
    {
     "data": {
      "text/plain": [
       "phrase            0\n",
       "prompt            0\n",
       "rewritten_text    0\n",
       "dtype: int64"
      ]
     },
     "execution_count": 11,
     "metadata": {},
     "output_type": "execute_result"
    }
   ],
   "source": [
    "df_train.isnull().sum()"
   ]
  },
  {
   "cell_type": "code",
   "execution_count": 12,
   "id": "589a4d72",
   "metadata": {
    "execution": {
     "iopub.execute_input": "2024-03-02T00:07:58.015893Z",
     "iopub.status.busy": "2024-03-02T00:07:58.015606Z",
     "iopub.status.idle": "2024-03-02T00:07:58.025508Z",
     "shell.execute_reply": "2024-03-02T00:07:58.024657Z"
    },
    "papermill": {
     "duration": 0.020809,
     "end_time": "2024-03-02T00:07:58.028129",
     "exception": false,
     "start_time": "2024-03-02T00:07:58.007320",
     "status": "completed"
    },
    "tags": []
   },
   "outputs": [
    {
     "name": "stdout",
     "output_type": "stream",
     "text": [
      "Number of duplicate phrases: 490\n",
      "Number of duplicate prompts: 400\n",
      "Number of duplicate responses: 6\n"
     ]
    }
   ],
   "source": [
    "phrase_duplicates = df_train.duplicated(subset=['phrase']).sum()\n",
    "prompt_duplicates = df_train.duplicated(subset=['prompt']).sum()\n",
    "rewritten_text_duplicates = df_train.duplicated(subset=['rewritten_text']).sum()\n",
    "\n",
    "print('Number of duplicate phrases: ' + str(phrase_duplicates))\n",
    "print('Number of duplicate prompts: ' + str(prompt_duplicates))\n",
    "print('Number of duplicate responses: ' + str(rewritten_text_duplicates))"
   ]
  },
  {
   "cell_type": "code",
   "execution_count": 13,
   "id": "3200a72e",
   "metadata": {
    "execution": {
     "iopub.execute_input": "2024-03-02T00:07:58.044992Z",
     "iopub.status.busy": "2024-03-02T00:07:58.044322Z",
     "iopub.status.idle": "2024-03-02T00:07:58.061917Z",
     "shell.execute_reply": "2024-03-02T00:07:58.060883Z"
    },
    "papermill": {
     "duration": 0.028583,
     "end_time": "2024-03-02T00:07:58.064086",
     "exception": false,
     "start_time": "2024-03-02T00:07:58.035503",
     "status": "completed"
    },
    "tags": []
   },
   "outputs": [
    {
     "data": {
      "text/html": [
       "<div>\n",
       "<style scoped>\n",
       "    .dataframe tbody tr th:only-of-type {\n",
       "        vertical-align: middle;\n",
       "    }\n",
       "\n",
       "    .dataframe tbody tr th {\n",
       "        vertical-align: top;\n",
       "    }\n",
       "\n",
       "    .dataframe thead th {\n",
       "        text-align: right;\n",
       "    }\n",
       "</style>\n",
       "<table border=\"1\" class=\"dataframe\">\n",
       "  <thead>\n",
       "    <tr style=\"text-align: right;\">\n",
       "      <th></th>\n",
       "      <th>phrase</th>\n",
       "      <th>prompt</th>\n",
       "      <th>rewritten_text</th>\n",
       "    </tr>\n",
       "  </thead>\n",
       "  <tbody>\n",
       "    <tr>\n",
       "      <th>11</th>\n",
       "      <td>sometimes talking to more than one person get ...</td>\n",
       "      <td>Adjust the emotional intensity of the text. If...</td>\n",
       "      <td>**Original Text:**\\n\\nSometimes talking to mor...</td>\n",
       "    </tr>\n",
       "    <tr>\n",
       "      <th>14</th>\n",
       "      <td>sometimes talking to more than one person get ...</td>\n",
       "      <td>Adjust the emotional intensity of the text. If...</td>\n",
       "      <td>**Original Text:**\\n\\nSometimes talking to mor...</td>\n",
       "    </tr>\n",
       "    <tr>\n",
       "      <th>211</th>\n",
       "      <td>Extracurricular activities are important to yo...</td>\n",
       "      <td>Adjust the emotional intensity of the text. If...</td>\n",
       "      <td>**Original Text:**\\n\\nExtracurricular activiti...</td>\n",
       "    </tr>\n",
       "    <tr>\n",
       "      <th>213</th>\n",
       "      <td>Extracurricular activities are important to yo...</td>\n",
       "      <td>Adjust the emotional intensity of the text. If...</td>\n",
       "      <td>**Original Text:**\\n\\nExtracurricular activiti...</td>\n",
       "    </tr>\n",
       "    <tr>\n",
       "      <th>311</th>\n",
       "      <td>Dear Mrs. Barker,\\n\\nI'm writing to you today ...</td>\n",
       "      <td>Adjust the emotional intensity of the text. If...</td>\n",
       "      <td>**Original Text:**\\n\\nDear Mrs. Barker,\\n\\nI'm...</td>\n",
       "    </tr>\n",
       "    <tr>\n",
       "      <th>314</th>\n",
       "      <td>Dear Mrs. Barker,\\n\\nI'm writing to you today ...</td>\n",
       "      <td>Adjust the emotional intensity of the text. If...</td>\n",
       "      <td>**Original Text:**\\n\\nDear Mrs. Barker,\\n\\nI'm...</td>\n",
       "    </tr>\n",
       "    <tr>\n",
       "      <th>360</th>\n",
       "      <td>Benefits of Student designed Projects\\n\\nSumme...</td>\n",
       "      <td>Adjust the emotional intensity of the text. If...</td>\n",
       "      <td>**Original Text:**\\n\\nBenefits of Student Desi...</td>\n",
       "    </tr>\n",
       "    <tr>\n",
       "      <th>361</th>\n",
       "      <td>Benefits of Student designed Projects\\n\\nSumme...</td>\n",
       "      <td>Adjust the emotional intensity of the text. If...</td>\n",
       "      <td>**Original Text:**\\n\\nBenefits of Student Desi...</td>\n",
       "    </tr>\n",
       "    <tr>\n",
       "      <th>363</th>\n",
       "      <td>Benefits of Student designed Projects\\n\\nSumme...</td>\n",
       "      <td>Adjust the emotional intensity of the text. If...</td>\n",
       "      <td>**Original Text:**\\n\\nBenefits of Student Desi...</td>\n",
       "    </tr>\n",
       "    <tr>\n",
       "      <th>364</th>\n",
       "      <td>Benefits of Student designed Projects\\n\\nSumme...</td>\n",
       "      <td>Adjust the emotional intensity of the text. If...</td>\n",
       "      <td>**Original Text:**\\n\\nBenefits of Student Desi...</td>\n",
       "    </tr>\n",
       "  </tbody>\n",
       "</table>\n",
       "</div>"
      ],
      "text/plain": [
       "                                                phrase  \\\n",
       "11   sometimes talking to more than one person get ...   \n",
       "14   sometimes talking to more than one person get ...   \n",
       "211  Extracurricular activities are important to yo...   \n",
       "213  Extracurricular activities are important to yo...   \n",
       "311  Dear Mrs. Barker,\\n\\nI'm writing to you today ...   \n",
       "314  Dear Mrs. Barker,\\n\\nI'm writing to you today ...   \n",
       "360  Benefits of Student designed Projects\\n\\nSumme...   \n",
       "361  Benefits of Student designed Projects\\n\\nSumme...   \n",
       "363  Benefits of Student designed Projects\\n\\nSumme...   \n",
       "364  Benefits of Student designed Projects\\n\\nSumme...   \n",
       "\n",
       "                                                prompt  \\\n",
       "11   Adjust the emotional intensity of the text. If...   \n",
       "14   Adjust the emotional intensity of the text. If...   \n",
       "211  Adjust the emotional intensity of the text. If...   \n",
       "213  Adjust the emotional intensity of the text. If...   \n",
       "311  Adjust the emotional intensity of the text. If...   \n",
       "314  Adjust the emotional intensity of the text. If...   \n",
       "360  Adjust the emotional intensity of the text. If...   \n",
       "361  Adjust the emotional intensity of the text. If...   \n",
       "363  Adjust the emotional intensity of the text. If...   \n",
       "364  Adjust the emotional intensity of the text. If...   \n",
       "\n",
       "                                        rewritten_text  \n",
       "11   **Original Text:**\\n\\nSometimes talking to mor...  \n",
       "14   **Original Text:**\\n\\nSometimes talking to mor...  \n",
       "211  **Original Text:**\\n\\nExtracurricular activiti...  \n",
       "213  **Original Text:**\\n\\nExtracurricular activiti...  \n",
       "311  **Original Text:**\\n\\nDear Mrs. Barker,\\n\\nI'm...  \n",
       "314  **Original Text:**\\n\\nDear Mrs. Barker,\\n\\nI'm...  \n",
       "360  **Original Text:**\\n\\nBenefits of Student Desi...  \n",
       "361  **Original Text:**\\n\\nBenefits of Student Desi...  \n",
       "363  **Original Text:**\\n\\nBenefits of Student Desi...  \n",
       "364  **Original Text:**\\n\\nBenefits of Student Desi...  "
      ]
     },
     "execution_count": 13,
     "metadata": {},
     "output_type": "execute_result"
    }
   ],
   "source": [
    "df_train[df_train.duplicated(keep=False)]"
   ]
  },
  {
   "cell_type": "code",
   "execution_count": 14,
   "id": "6adf91c6",
   "metadata": {
    "execution": {
     "iopub.execute_input": "2024-03-02T00:07:58.080533Z",
     "iopub.status.busy": "2024-03-02T00:07:58.080241Z",
     "iopub.status.idle": "2024-03-02T00:07:58.085419Z",
     "shell.execute_reply": "2024-03-02T00:07:58.084451Z"
    },
    "papermill": {
     "duration": 0.016055,
     "end_time": "2024-03-02T00:07:58.087879",
     "exception": false,
     "start_time": "2024-03-02T00:07:58.071824",
     "status": "completed"
    },
    "tags": []
   },
   "outputs": [
    {
     "name": "stdout",
     "output_type": "stream",
     "text": [
      "First duplicate: \n",
      "**Original Text:**\n",
      "\n",
      "Sometimes talking to more than one person can get you threw a lot of things in life and help you become a better person as well. Also seeking multiple opinions and advises can help you think about how to or make better choices by thinking more wisely before doing something that may look or sound like a better choice to you but might actually be a bad choice. And think about the consequences you will have If you don't decide to make the right choices.\n",
      "\n",
      "**Subdued Text\n",
      "\n",
      "Second duplicate: \n",
      "**Original Text:**\n",
      "\n",
      "Sometimes talking to more than one person can get you threw a lot of things in life and help you become a better person as well. Also seeking multiple opinions and advises can help you think about how to or make better choices by thinking more wisely before doing something that may look or sound like a better choice to you but might actually be a bad choice. And think about the consequences you will have If you don't decide to make the right choices.\n",
      "\n",
      "**Subdued Text\n"
     ]
    }
   ],
   "source": [
    "print('First duplicate: \\n'+ df_train.iloc[11,2] + '\\n')\n",
    "print('Second duplicate: \\n' + df_train.iloc[14,2])"
   ]
  },
  {
   "cell_type": "markdown",
   "id": "d1145e93",
   "metadata": {
    "papermill": {
     "duration": 0.007593,
     "end_time": "2024-03-02T00:07:58.103522",
     "exception": false,
     "start_time": "2024-03-02T00:07:58.095929",
     "status": "completed"
    },
    "tags": []
   },
   "source": [
    "***Interesting!***\n",
    "\n",
    "Sometimes Gemma begins the response by stating the original text in a given format. Because of this, we likely don't see any actual response. The input prompt is too long, and Gemma runs into the max output of 100 words before the model can provide any new or novel text.\n",
    "\n",
    "Since this is such a small number of data points that have this happen, I think it's easiest to trim them from our training data moving forward."
   ]
  },
  {
   "cell_type": "code",
   "execution_count": 15,
   "id": "cc22e7d5",
   "metadata": {
    "execution": {
     "iopub.execute_input": "2024-03-02T00:07:58.121072Z",
     "iopub.status.busy": "2024-03-02T00:07:58.120369Z",
     "iopub.status.idle": "2024-03-02T00:07:58.127262Z",
     "shell.execute_reply": "2024-03-02T00:07:58.126349Z"
    },
    "papermill": {
     "duration": 0.018498,
     "end_time": "2024-03-02T00:07:58.130095",
     "exception": false,
     "start_time": "2024-03-02T00:07:58.111597",
     "status": "completed"
    },
    "tags": []
   },
   "outputs": [
    {
     "name": "stdout",
     "output_type": "stream",
     "text": [
      "Number of duplicate responses: 0\n"
     ]
    }
   ],
   "source": [
    "df_train = df_train.drop_duplicates(subset=['rewritten_text'], keep=False)\n",
    "\n",
    "rewritten_text_duplicates = df_train.duplicated(subset=['rewritten_text']).sum()\n",
    "print('Number of duplicate responses: ' + str(rewritten_text_duplicates))"
   ]
  },
  {
   "cell_type": "markdown",
   "id": "7e4ecb60",
   "metadata": {
    "papermill": {
     "duration": 0.008551,
     "end_time": "2024-03-02T00:07:58.147888",
     "exception": false,
     "start_time": "2024-03-02T00:07:58.139337",
     "status": "completed"
    },
    "tags": []
   },
   "source": [
    "---\n",
    "## Feature Engineering\n",
    "\n",
    "Explore steps for processing data to improve modelling. Outlier rejection, data scaling, etc."
   ]
  },
  {
   "cell_type": "markdown",
   "id": "77b42260",
   "metadata": {
    "papermill": {
     "duration": 0.007731,
     "end_time": "2024-03-02T00:07:58.163471",
     "exception": false,
     "start_time": "2024-03-02T00:07:58.155740",
     "status": "completed"
    },
    "tags": []
   },
   "source": [
    "---\n",
    "## Modelling\n",
    "\n",
    "Create the model and such that will be used for the prediction"
   ]
  },
  {
   "cell_type": "markdown",
   "id": "5d05ff57",
   "metadata": {
    "papermill": {
     "duration": 0.00767,
     "end_time": "2024-03-02T00:07:58.178832",
     "exception": false,
     "start_time": "2024-03-02T00:07:58.171162",
     "status": "completed"
    },
    "tags": []
   },
   "source": [
    "## Evaluation\n",
    "\n",
    "Use the problem definition to evaluate the model against a private test dataset."
   ]
  }
 ],
 "metadata": {
  "kaggle": {
   "accelerator": "gpu",
   "dataSources": [
    {
     "databundleVersionId": 7806901,
     "sourceId": 67121,
     "sourceType": "competition"
    },
    {
     "datasetId": 4288635,
     "sourceId": 7379779,
     "sourceType": "datasetVersion"
    },
    {
     "datasetId": 4518083,
     "sourceId": 7737297,
     "sourceType": "datasetVersion"
    },
    {
     "modelInstanceId": 8749,
     "sourceId": 11359,
     "sourceType": "modelInstanceVersion"
    }
   ],
   "dockerImageVersionId": 30665,
   "isGpuEnabled": true,
   "isInternetEnabled": true,
   "language": "python",
   "sourceType": "notebook"
  },
  "kernelspec": {
   "display_name": "Python 3",
   "language": "python",
   "name": "python3"
  },
  "language_info": {
   "codemirror_mode": {
    "name": "ipython",
    "version": 3
   },
   "file_extension": ".py",
   "mimetype": "text/x-python",
   "name": "python",
   "nbconvert_exporter": "python",
   "pygments_lexer": "ipython3",
   "version": "3.10.13"
  },
  "papermill": {
   "default_parameters": {},
   "duration": 21347.242237,
   "end_time": "2024-03-02T00:08:01.113438",
   "environment_variables": {},
   "exception": null,
   "input_path": "__notebook__.ipynb",
   "output_path": "__notebook__.ipynb",
   "parameters": {},
   "start_time": "2024-03-01T18:12:13.871201",
   "version": "2.5.0"
  }
 },
 "nbformat": 4,
 "nbformat_minor": 5
}
